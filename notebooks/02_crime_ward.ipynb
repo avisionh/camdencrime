{
 "cells": [
  {
   "cell_type": "code",
   "execution_count": null,
   "metadata": {},
   "outputs": [],
   "source": [
    "from src.utils.helper_plot import get_minimal_distance_factors\n",
    "\n",
    "import os\n",
    "import pandas as pd\n",
    "import numpy as np\n",
    "import matplotlib.pyplot as plt\n",
    "import seaborn as sns\n",
    "\n",
    "%matplotlib inline\n",
    "\n",
    "# constants\n",
    "FOLDER_INTERIM = os.environ.get(\"DIR_DATA_INTERIM\")\n",
    "DATA_CRIME_CATEGORY = \"df_category.csv\"\n",
    "FIG_SIZE = (30, 15)\n",
    "TITLE_SIZE = 40"
   ]
  },
  {
   "cell_type": "code",
   "execution_count": null,
   "metadata": {},
   "outputs": [],
   "source": [
    "df_crime = pd.read_csv(filepath_or_buffer=FOLDER_INTERIM + \"/\" + DATA_CRIME_CATEGORY, \n",
    "                       parse_dates=['Outcome Date'])"
   ]
  },
  {
   "cell_type": "markdown",
   "metadata": {},
   "source": [
    "# Explore Crime Categories\n",
    "In this section, we explore further general crime rates by at Camden and its corresponding wards by looking at the following plots:\n",
    "1. Boxplot - to understand the range of values for crime incidences, including the percentiles such as 25th, 50th and 75th percentiles.\n",
    "1. Kernel density - to understand how our data is distributed across number of crime incidences.\n",
    "1. Line plot - to understand how crime rates have evolved over time"
   ]
  },
  {
   "cell_type": "markdown",
   "metadata": {},
   "source": [
    "***\n",
    "\n",
    "## Crime in Camden\n",
    "In this section, we focus on looking at crime rates in the higher-level Camden local authority."
   ]
  },
  {
   "cell_type": "markdown",
   "metadata": {},
   "source": [
    "### Understanding range of values\n",
    "We see that the spread of our monthly crime rates for Camden vary quite differently across years. For 2015 and 2018, the range is quite narrow whereas for other years, the rates can jump between relatively high and low rates across each month.\n",
    "\n",
    "Of most interest in 2019 where we have rates bunched up around 0.18% and 0.04% but no monthly rates in between. This year is also the year where the percentage point interquartile range is largest."
   ]
  },
  {
   "cell_type": "code",
   "execution_count": null,
   "metadata": {},
   "outputs": [],
   "source": [
    "# aggregate data for plotting\n",
    "df_camden = df_crime.groupby(by=[\"Date Year\", \"Date Month\"]).agg(func={\"Crime Incidences\": 'sum', \"Population\": 'sum'}).reset_index()\n",
    "df_camden['Crime Rate'] = df_camden['Crime Incidences'] / df_camden['Population']"
   ]
  },
  {
   "cell_type": "code",
   "execution_count": null,
   "metadata": {},
   "outputs": [],
   "source": [
    "# set size of plot\n",
    "fig, ax = plt.subplots(figsize=FIG_SIZE)\n",
    "\n",
    "# plot\n",
    "ax = sns.boxplot(x=\"Date Year\", y=\"Crime Rate\", data=df_camden, palette='Set2')\n",
    "ax = sns.swarmplot(x=\"Date Year\", y=\"Crime Rate\", data=df_camden, color=\"black\")\n",
    "\n",
    "# adjust y-axis values to percentages for easier reading - https://stackoverflow.com/a/63755285/13416265\n",
    "ticks_loc = ax.get_yticks().tolist()\n",
    "ticks_loc = [round(number=x * 100, ndigits=2) for x in ticks_loc]\n",
    "ax.set_yticks(ax.get_yticks().tolist())\n",
    "ax.set_yticklabels([f\"{x}%\" for x in ticks_loc])\n",
    "ax.set_xlabel(\"Date\")\n",
    "ax.set_title(label=\"Boxplot: Camden crime rates\", fontsize=TITLE_SIZE)"
   ]
  },
  {
   "cell_type": "markdown",
   "metadata": {},
   "source": [
    "### Understanding distribution of data\n",
    "We see in the density plots below complimentary information to the boxplots earlier, namely that for 2015, the spread of crime rates are concentrated around a small range, as suggested by the narrow and tall shape; whereas for 2019, we have the spread of crime rates to be large, as suggested by the wide and short shape, with there being two peaks around the interquartile range.\n",
    "\n",
    "> *Considered violin plot to replace the boxplot and kernel density plot but hard to see the median values.*"
   ]
  },
  {
   "cell_type": "code",
   "execution_count": null,
   "metadata": {},
   "outputs": [],
   "source": [
    "# set size of plot\n",
    "fig, ax = plt.subplots(figsize=FIG_SIZE)\n",
    "\n",
    "# plot\n",
    "sns.kdeplot(data=df_camden, x=\"Crime Rate\", hue=\"Date Year\", palette='Set2')\n",
    "\n",
    "# adjust x-axis values to percentages for easier reading - https://stackoverflow.com/a/63755285/13416265\n",
    "ticks_loc = ax.get_xticks().tolist()\n",
    "ticks_loc = [round(number=x * 100, ndigits=2) for x in ticks_loc]\n",
    "ax.set_xticks(ax.get_xticks().tolist())\n",
    "ax.set_xticklabels([f\"{x}%\" for x in ticks_loc])\n",
    "ax.set_title(label=\"Kernel Density: Camden crime rates\", fontsize=TITLE_SIZE)"
   ]
  },
  {
   "cell_type": "markdown",
   "metadata": {},
   "source": [
    "### Understanding evolution of crime rates over time\n",
    "We see that generally, there is an upward trend in the crime rate from 2015 to 2019. However there is a lot of fluctuation and does not appear to be any recurring patterns between years so we are unlikely to see seasonal spikes or troughs in crime. There is an exception to this seasonal pattern though because we do spot in-year troughs of crime rates around Feb-Apr time."
   ]
  },
  {
   "cell_type": "code",
   "execution_count": null,
   "metadata": {},
   "outputs": [],
   "source": [
    "# population looks strange, shouldn't change month-by-month\n",
    "df_crime.groupby(by=['Outcome Date']).agg(func={\"Crime Incidences\": 'sum', \"Population\": 'sum'}).reset_index().head(n=10)"
   ]
  },
  {
   "cell_type": "code",
   "execution_count": null,
   "metadata": {},
   "outputs": [],
   "source": [
    "# aggregate data for plotting\n",
    "df_camden = df_crime.groupby(by=['Outcome Date']).agg(func={\"Crime Incidences\": 'sum', \"Population\": 'sum'}).reset_index()\n",
    "df_camden['Crime Rate'] = df_camden['Crime Incidences'] / df_camden['Population']\n",
    "df_camden['Crime Incidences Log'] = np.log10(df_camden['Crime Incidences'])"
   ]
  },
  {
   "cell_type": "code",
   "execution_count": null,
   "metadata": {},
   "outputs": [],
   "source": [
    "fig, ax = plt.subplots(figsize=FIG_SIZE)\n",
    "\n",
    "sns.lineplot(data=df_camden, x=\"Outcome Date\", y=\"Crime Rate\", palette='Set2')\n",
    "\n",
    "# adjust y-axis values to percentages for easier reading - https://stackoverflow.com/a/63755285/13416265\n",
    "ticks_loc = ax.get_yticks().tolist()\n",
    "ticks_loc = [round(number=x * 100, ndigits=2) for x in ticks_loc]\n",
    "ax.set_yticks(ax.get_yticks().tolist())\n",
    "ax.set_yticklabels([f\"{x}%\" for x in ticks_loc])\n",
    "ax.set_ylabel(\"Crime Rate\")\n",
    "ax.set_xlabel(\"Date\")\n",
    "ax.set_title(label=\"Line plot: Camden crime rate over time\", fontsize=TITLE_SIZE)"
   ]
  },
  {
   "cell_type": "markdown",
   "metadata": {},
   "source": [
    "***\n",
    "\n",
    "## Crime in Camden Wards\n",
    "In this section, we focus on looking at crime rates in the lower-level Camden wards."
   ]
  },
  {
   "cell_type": "markdown",
   "metadata": {},
   "source": [
    "### Understanding range of values\n",
    "Similar to what was seen at the Local Authority-level of Camden, across all wards, the range of values for our crime rate is smallest during 2015 and largest for 2019, with years between this having different ranges."
   ]
  },
  {
   "cell_type": "code",
   "execution_count": null,
   "metadata": {},
   "outputs": [],
   "source": [
    "df_wards = df_crime.groupby(by=[\"Date Year\", \"Date Month\", \"Ward Name\"]).agg(func={\"Crime Incidences\": 'sum', \"Population\": 'sum'}).reset_index()\n",
    "df_wards['Crime Rate'] = df_wards['Crime Incidences'] / df_wards['Population']"
   ]
  },
  {
   "cell_type": "code",
   "execution_count": null,
   "metadata": {},
   "outputs": [],
   "source": [
    "fig, ax = plt.subplots(figsize=(30, 15)) \n",
    "ax = sns.boxplot(ax=ax, x=\"Ward Name\", y=\"Crime Rate\", data=df_wards, palette='Set2', hue=\"Date Year\", dodge=True)"
   ]
  },
  {
   "cell_type": "markdown",
   "metadata": {},
   "source": [
    "### Understanding distribution of data\n",
    "Similar to what was seen at the Local Authority-level of Camden, across all wards, we see below complimentary information to the boxplots earlier, namely that for 2015, the spread of crime rates are concentrated around a small range, as suggested by the narrow and tall shape; whereas for 2019, we have the spread of crime rates to be large, as suggested by the wide and short shape, with there being two peaks around the interquartile range.\n",
    "\n",
    "The only exceptions to these cases are the wards of Fortune Green and Frognal & Fitzjohns where we do not posesses any 2015 data."
   ]
  },
  {
   "cell_type": "code",
   "execution_count": null,
   "metadata": {},
   "outputs": [],
   "source": [
    "# set size of plot\n",
    "wards = df_wards[\"Ward Name\"].unique()\n",
    "rows, cols = get_minimal_distance_factors(n=len(wards))\n",
    "fig, axes = plt.subplots(nrows=rows, ncols=cols, figsize=FIG_SIZE)\n",
    "\n",
    "# plot\n",
    "plt.suptitle(t=\"Kernel-Density: Crime Rates for each Camden ward\", fontsize=TITLE_SIZE)\n",
    "for ax, ward in zip(axes.flatten(), wards):\n",
    "    df = df_wards[df_wards[\"Ward Name\"] == ward]\n",
    "    sns.kdeplot(ax=ax, data=df, x=\"Crime Rate\", hue=\"Date Year\", palette='Set2')\n",
    "    ax.set_title(label=f\"{ward}\")\n",
    "\n",
    "    # adjust x-axis values to percentages for easier reading - https://stackoverflow.com/a/63755285/13416265\n",
    "    ticks_loc = ax.get_xticks().tolist()\n",
    "    ticks_loc = [round(number=x * 100, ndigits=2) for x in ticks_loc]\n",
    "    ax.set_xticks(ax.get_xticks().tolist())\n",
    "    ax.set_xticklabels([f\"{x}%\" for x in ticks_loc])"
   ]
  },
  {
   "cell_type": "markdown",
   "metadata": {},
   "source": [
    "### Understanding evolution of crime rates over time\n",
    "Similar to what was seen at the Local Authority-level of Camden, across all wards, we see that crime rates have an upward trend. There is not much of a strong seasonal pattern also.\n",
    "\n",
    "[[*StackOverflow - gboffi, 2018*](https://stackoverflow.com/a/53681489/13416265)]"
   ]
  },
  {
   "cell_type": "code",
   "execution_count": null,
   "metadata": {},
   "outputs": [],
   "source": [
    "df_wards = df_crime.groupby(by=['Outcome Date', 'Ward Name', 'Population']).agg(func={'Crime Incidences': 'sum'}).reset_index()\n",
    "df_wards['Crime Rate'] = df_wards['Crime Incidences'] / df_wards['Population']"
   ]
  },
  {
   "cell_type": "code",
   "execution_count": null,
   "metadata": {},
   "outputs": [],
   "source": [
    "wards = df_wards[\"Ward Name\"].unique()\n",
    "colours = plt.rcParams['axes.prop_cycle']()\n",
    "\n",
    "fig, axes = plt.subplots(nrows=3, ncols=6, figsize=(30,15))\n",
    "plt.suptitle(t=\"Crime Rates for each Camden ward\", fontsize=40)\n",
    "for ax, ward in zip(axes.flatten(), wards):\n",
    "    df = df_wards[df_wards[\"Ward Name\"] == ward]\n",
    "    ax.plot(\"Outcome Date\", \"Crime Rate\", data=df, **next(colours))\n",
    "    ax.set_title(label=f\"{ward}\")"
   ]
  },
  {
   "cell_type": "code",
   "execution_count": null,
   "metadata": {},
   "outputs": [],
   "source": []
  }
 ],
 "metadata": {
  "kernelspec": {
   "display_name": "",
   "language": "python",
   "name": ""
  },
  "language_info": {
   "codemirror_mode": {
    "name": "ipython",
    "version": 3
   },
   "file_extension": ".py",
   "mimetype": "text/x-python",
   "name": "python",
   "nbconvert_exporter": "python",
   "pygments_lexer": "ipython3",
   "version": "3.8.0"
  }
 },
 "nbformat": 4,
 "nbformat_minor": 4
}
