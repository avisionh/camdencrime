{
 "cells": [
  {
   "cell_type": "code",
   "execution_count": null,
   "metadata": {
    "tags": [
     "hide-input"
    ]
   },
   "outputs": [],
   "source": [
    "import os\n",
    "import pandas as pd\n",
    "import geopandas as gpd\n",
    "\n",
    "FOLDER_RAW = os.getenv('DIR_DATA_RAW')\n",
    "DATA_CRIME = 'On_Street_Crime_In_Camden.csv'\n",
    "DATA_POP = 'Population_20Projections_20_latest_20GLA_20set_.xlsx'\n",
    "DATA_MAP = 'geo_export_aba7f1fe-addd-4eff-a2f6-fa63b09e4d6f.shp'\n",
    "DATA_LIGHT = 'geo_export_e87e8b43-cf73-48e4-ad5c-692f56b45394.shp'\n",
    "\n",
    "SAMPLE_SIZE = 5\n",
    "SEED = 42"
   ]
  },
  {
   "cell_type": "code",
   "execution_count": null,
   "metadata": {
    "tags": [
     "hide-input"
    ]
   },
   "outputs": [],
   "source": [
    "df_crime = pd.read_csv(filepath_or_buffer=FOLDER_RAW + \"/\" + DATA_CRIME,\n",
    "                       parse_dates=[\"Outcome Date\", \"Epoch\"])\n",
    "df_pop = pd.read_excel(io=FOLDER_RAW + \"/\" + DATA_POP,\n",
    "                       sheet_name=\"WardP Summry\",\n",
    "                       header=None,\n",
    "                       names=['Ward Code',\n",
    "                              'Ward Name',\n",
    "                              '2015',\n",
    "                              '2016',\n",
    "                              '2017',\n",
    "                              '2018',\n",
    "                              '2019',\n",
    "                              '2020'],\n",
    "                       usecols=\"B,D,K:P\",\n",
    "                       skiprows=5,\n",
    "                       nrows=18)\n",
    "shp_ward = gpd.read_file(filename=FOLDER_RAW + \"/camden_ward_boundary/\" + DATA_MAP)\n",
    "shp_light = gpd.read_file(filename=FOLDER_RAW + \"/camden_street_lighting/\" + DATA_LIGHT)"
   ]
  },
  {
   "cell_type": "markdown",
   "metadata": {},
   "source": [
    "# Viewing the data\n",
    "Below we display how the data looks in its raw form."
   ]
  },
  {
   "cell_type": "markdown",
   "metadata": {},
   "source": [
    "## On Street Crime in Camden\n",
    "Key columns to take further are:\n",
    "- Outcome Date\n",
    "- Category\n",
    "- Ward Name\n",
    "\n",
    "For further development, would like to also include:\n",
    "- Street Name\n",
    "- Outcome Category\n",
    "- Longitude\n",
    "- Latitude"
   ]
  },
  {
   "cell_type": "code",
   "execution_count": null,
   "metadata": {
    "tags": [
     "hide-input"
    ]
   },
   "outputs": [],
   "source": [
    "df_crime.sample(n=SAMPLE_SIZE, random_state=SEED)"
   ]
  },
  {
   "cell_type": "markdown",
   "metadata": {},
   "source": [
    "## Camden Population Projections\n",
    "Key columns to take further are:\n",
    "- Ward Name\n",
    "- 2015, ..., 2020"
   ]
  },
  {
   "cell_type": "code",
   "execution_count": null,
   "metadata": {
    "tags": [
     "hide-input"
    ]
   },
   "outputs": [],
   "source": [
    "df_pop.sample(n=SAMPLE_SIZE, random_state=SEED)"
   ]
  },
  {
   "cell_type": "markdown",
   "metadata": {},
   "source": [
    "## Camden Ward Boundary\n",
    "Key columns to take further are:\n",
    "- name\n",
    "- geometry"
   ]
  },
  {
   "cell_type": "code",
   "execution_count": null,
   "metadata": {
    "tags": [
     "hide-input"
    ]
   },
   "outputs": [],
   "source": [
    "shp_ward.sample(n=SAMPLE_SIZE, random_state=SEED)"
   ]
  },
  {
   "cell_type": "markdown",
   "metadata": {},
   "source": [
    "## Camden Street Lighting\n",
    "Key columns to take further are:\n",
    "- lamp_type\n",
    "- ward_name\n",
    "- wattage\n",
    "\n",
    "> Note: This dataset is updated daily so the date we have for street lighting is the date the author collected the data.\n",
    "\n",
    "For further development, would like to also include:\n",
    "- street_nam\n",
    "- longitude\n",
    "- latitude\n",
    "- geometry"
   ]
  },
  {
   "cell_type": "code",
   "execution_count": null,
   "metadata": {
    "tags": [
     "hide-input"
    ]
   },
   "outputs": [],
   "source": [
    "shp_light.sample(n=SAMPLE_SIZE, random_state=SEED)"
   ]
  }
 ],
 "metadata": {
  "kernelspec": {
   "display_name": "",
   "language": "python",
   "name": ""
  },
  "language_info": {
   "codemirror_mode": {
    "name": "ipython",
    "version": 3
   },
   "file_extension": ".py",
   "mimetype": "text/x-python",
   "name": "python",
   "nbconvert_exporter": "python",
   "pygments_lexer": "ipython3",
   "version": "3.8.0"
  }
 },
 "nbformat": 4,
 "nbformat_minor": 4
}
