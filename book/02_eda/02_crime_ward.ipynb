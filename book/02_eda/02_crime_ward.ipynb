{
 "cells": [
  {
   "cell_type": "code",
   "execution_count": null,
   "metadata": {
    "tags": [
     "hide-input"
    ]
   },
   "outputs": [],
   "source": [
    "from src.utils.helper_plot import get_minimal_distance_factors\n",
    "\n",
    "import os\n",
    "import pandas as pd\n",
    "import numpy as np\n",
    "import matplotlib.pyplot as plt\n",
    "import seaborn as sns\n",
    "\n",
    "%matplotlib inline\n",
    "\n",
    "# constants\n",
    "FOLDER_INTERIM = os.environ.get('DIR_DATA_INTERIM')\n",
    "DATA_CRIME_CATEGORY = 'df_category.csv'\n",
    "DATA_POP = 'df_pop.csv'\n",
    "FIG_SIZE = (30, 15)\n",
    "TITLE_SIZE = 40"
   ]
  },
  {
   "cell_type": "code",
   "execution_count": null,
   "metadata": {
    "tags": [
     "hide-input"
    ]
   },
   "outputs": [],
   "source": [
    "df_category = pd.read_csv(filepath_or_buffer=FOLDER_INTERIM + \"/\" + DATA_CRIME_CATEGORY, \n",
    "                       parse_dates=[\"Outcome Date\"])\n",
    "df_pop = pd.read_csv(filepath_or_buffer=FOLDER_INTERIM + \"/\" + DATA_POP)"
   ]
  },
  {
   "cell_type": "markdown",
   "metadata": {},
   "source": [
    "Reshape the data so it is in the right format for plotting."
   ]
  },
  {
   "cell_type": "code",
   "execution_count": null,
   "metadata": {
    "tags": [
     "hide-input"
    ]
   },
   "outputs": [],
   "source": [
    "# aggregate to ward level\n",
    "\n",
    "## for barplot and kernel-density plot\n",
    "df_ward = df_category.groupby(by=[\"Outcome Year\", \"Outcome Month\", \"Ward Name\", \"Population\"]).agg(func={\"Crime Incidences\": 'sum'}).reset_index()\n",
    "df_ward[\"Crime Rate\"] = df_ward[\"Crime Incidences\"] / df_ward[\"Population\"]\n",
    "\n",
    "## for time-series\n",
    "df_ward_ts = df_category.groupby(by=[\"Outcome Date\", \"Ward Name\", \"Population\"]).agg(func={\"Crime Incidences\": 'sum'}).reset_index()\n",
    "df_ward_ts[\"Crime Rate\"] = df_ward_ts[\"Crime Incidences\"] / df_ward_ts[\"Population\"]\n",
    "\n",
    "# aggregate to Camden level \n",
    "\n",
    "## for barplot and kernel-density plot\n",
    "df_camden = df_ward.groupby(by=[\"Outcome Year\", \"Outcome Month\"]).agg(func={\"Crime Incidences\": 'sum', \"Population\": 'sum'}).reset_index()\n",
    "df_camden[\"Crime Rate\"] = df_camden[\"Crime Incidences\"] / df_camden[\"Population\"]\n",
    "\n",
    "## for time-series\n",
    "df_camden_ts = df_ward_ts.groupby(by=[\"Outcome Date\"]).agg(func={\"Crime Incidences\": 'sum', \"Population\": 'sum'}).reset_index()\n",
    "df_camden_ts[\"Crime Rate\"] = df_camden_ts[\"Crime Incidences\"] / df_camden_ts[\"Population\"]"
   ]
  },
  {
   "cell_type": "markdown",
   "metadata": {},
   "source": [
    "# Explore Crime by Location\n",
    "In this section, we explore further general crime rates by at Camden and its corresponding wards by looking at the following plots:\n",
    "1. Boxplot - to understand the range of values for crime incidences, including the percentiles such as 25th, 50th and 75th percentiles.\n",
    "1. Kernel density - to understand how our data is distributed across number of crime incidences.\n",
    "1. Line plot - to understand how crime rates have evolved over time"
   ]
  },
  {
   "cell_type": "markdown",
   "metadata": {},
   "source": [
    "***\n",
    "\n",
    "## Crime in Camden\n",
    "In this section, we focus on looking at crime rates in the higher-level Camden local authority."
   ]
  },
  {
   "cell_type": "markdown",
   "metadata": {},
   "source": [
    "### Understanding range of values\n",
    "We see that the spread of our monthly crime rates for Camden vary quite differently across years. For 2015 and 2018, the range is quite narrow whereas for other years, the rates can jump between relatively high and low rates across each month.\n",
    "\n",
    "Of most interest in 2019 where we have rates bunched up around 0.18% and 0.04% but no monthly rates in between. This year is also the year where the percentage point interquartile range is largest."
   ]
  },
  {
   "cell_type": "code",
   "execution_count": null,
   "metadata": {
    "tags": [
     "hide-input"
    ]
   },
   "outputs": [],
   "source": [
    "# set size of plot\n",
    "fig, ax = plt.subplots(figsize=FIG_SIZE)\n",
    "\n",
    "# plot\n",
    "ax = sns.boxplot(x=\"Outcome Year\", y=\"Crime Rate\", data=df_camden, palette='Set2')\n",
    "ax = sns.swarmplot(x=\"Outcome Year\", y=\"Crime Rate\", data=df_camden, color='black')\n",
    "\n",
    "# adjust y-axis values to percentages for easier reading - https://stackoverflow.com/a/63755285/13416265\n",
    "ticks_loc = ax.get_yticks().tolist()\n",
    "ticks_loc = [round(number=x * 100, ndigits=2) for x in ticks_loc]\n",
    "ax.set_yticks(ax.get_yticks().tolist())\n",
    "ax.set_yticklabels([f\"{x}%\" for x in ticks_loc])\n",
    "ax.set_xlabel(\"Date\")\n",
    "ax.set_title(label=\"Boxplot: Camden crime rates\", fontsize=TITLE_SIZE)"
   ]
  },
  {
   "cell_type": "markdown",
   "metadata": {},
   "source": [
    "### Understanding distribution of data\n",
    "We see in the density plots below complimentary information to the boxplots earlier, namely that for 2015, the spread of crime rates are concentrated around a small range, as suggested by the narrow and tall shape; whereas for 2019, we have the spread of crime rates to be large, as suggested by the wide and short shape, with there being two peaks around the interquartile range.\n",
    "\n",
    "> *Considered violin plot to replace the boxplot and kernel density plot but hard to see the median values.*"
   ]
  },
  {
   "cell_type": "code",
   "execution_count": null,
   "metadata": {
    "tags": [
     "hide-input"
    ]
   },
   "outputs": [],
   "source": [
    "# set size of plot\n",
    "fig, ax = plt.subplots(figsize=FIG_SIZE)\n",
    "\n",
    "# plot\n",
    "sns.kdeplot(data=df_camden, x=\"Crime Rate\", hue=\"Outcome Year\", palette='Set2')\n",
    "\n",
    "# adjust x-axis values to percentages for easier reading - https://stackoverflow.com/a/63755285/13416265\n",
    "ticks_loc = ax.get_xticks().tolist()\n",
    "ticks_loc = [round(number=x * 100, ndigits=2) for x in ticks_loc]\n",
    "ax.set_xticks(ax.get_xticks().tolist())\n",
    "ax.set_xticklabels([f\"{x}%\" for x in ticks_loc])\n",
    "ax.set_title(label=\"Kernel Density: Camden crime rates\", fontsize=TITLE_SIZE)"
   ]
  },
  {
   "cell_type": "markdown",
   "metadata": {},
   "source": [
    "### Understanding evolution of crime rates over time\n",
    "We see that generally, there is an upward trend in the crime rate from 2015 to 2019. However there is a lot of fluctuation and does not appear to be any recurring patterns between years so we are unlikely to see seasonal spikes or troughs in crime. There is an exception to this seasonal pattern though because we do spot in-year troughs of crime rates around Feb-Apr time."
   ]
  },
  {
   "cell_type": "code",
   "execution_count": null,
   "metadata": {
    "tags": [
     "hide-input"
    ]
   },
   "outputs": [],
   "source": [
    "fig, ax = plt.subplots(figsize=FIG_SIZE)\n",
    "\n",
    "sns.lineplot(data=df_camden_ts, x=\"Outcome Date\", y=\"Crime Rate\", palette='Set2')\n",
    "\n",
    "# adjust y-axis values to percentages for easier reading - https://stackoverflow.com/a/63755285/13416265\n",
    "ticks_loc = ax.get_yticks().tolist()\n",
    "ticks_loc = [round(number=x * 100, ndigits=2) for x in ticks_loc]\n",
    "ax.set_yticks(ax.get_yticks().tolist())\n",
    "ax.set_yticklabels([f\"{x}%\" for x in ticks_loc])\n",
    "ax.set_ylabel(\"Crime Rate\")\n",
    "ax.set_xlabel(\"Date\")\n",
    "ax.set_title(label=\"Line plot: Camden crime rate over time\", fontsize=TITLE_SIZE)"
   ]
  },
  {
   "cell_type": "markdown",
   "metadata": {},
   "source": [
    "***\n",
    "\n",
    "## Crime in Camden Wards\n",
    "In this section, we focus on looking at crime rates in the lower-level Camden wards."
   ]
  },
  {
   "cell_type": "markdown",
   "metadata": {},
   "source": [
    "### Understanding range of values\n",
    "Similar to what was seen at the Local Authority-level of Camden, across all wards, the range of values for our crime rate is smallest during 2015 and largest for 2019, with years between this having different ranges."
   ]
  },
  {
   "cell_type": "code",
   "execution_count": null,
   "metadata": {
    "tags": [
     "hide-input"
    ]
   },
   "outputs": [],
   "source": [
    "fig, ax = plt.subplots(figsize=(15, 30)) \n",
    "ax = sns.boxplot(ax=ax, x=\"Crime Rate\", y=\"Ward Name\", data=df_ward, orient='h', palette='Set2', hue=\"Outcome Year\", dodge=True)"
   ]
  },
  {
   "cell_type": "markdown",
   "metadata": {},
   "source": [
    "### Understanding distribution of data\n",
    "Similar to what was seen at the Local Authority-level of Camden, across all wards, we see below complimentary information to the boxplots earlier, namely that for 2015, the spread of crime rates are concentrated around a small range, as suggested by the narrow and tall shape; whereas for 2019, we have the spread of crime rates to be large, as suggested by the wide and short shape, with there being two peaks around the interquartile range."
   ]
  },
  {
   "cell_type": "code",
   "execution_count": null,
   "metadata": {
    "tags": [
     "hide-input"
    ]
   },
   "outputs": [],
   "source": [
    "# set size of plot\n",
    "wards = df_ward[\"Ward Name\"].unique()\n",
    "rows, cols = get_minimal_distance_factors(n=len(wards))\n",
    "fig, axes = plt.subplots(nrows=rows, ncols=cols, figsize=FIG_SIZE)\n",
    "\n",
    "# plot\n",
    "plt.suptitle(t=\"Kernel-Density: Crime Rates for each Camden ward\", fontsize=TITLE_SIZE)\n",
    "for ax, ward in zip(axes.flatten(), wards):\n",
    "    df = df_ward[df_ward[\"Ward Name\"] == ward]\n",
    "    sns.kdeplot(ax=ax, data=df, x=\"Crime Rate\", hue=\"Outcome Year\", palette='Set2')\n",
    "    ax.set_title(label=f\"{ward}\")\n",
    "\n",
    "    # adjust x-axis values to percentages for easier reading - https://stackoverflow.com/a/63755285/13416265\n",
    "    ticks_loc = ax.get_xticks().tolist()\n",
    "    ticks_loc = [round(number=x * 100, ndigits=2) for x in ticks_loc]\n",
    "    ax.set_xticks(ax.get_xticks().tolist())\n",
    "    ax.set_xticklabels([f\"{x}%\" for x in ticks_loc])"
   ]
  },
  {
   "cell_type": "markdown",
   "metadata": {},
   "source": [
    "### Understanding evolution of crime rates over time\n",
    "Similar to what was seen at the Local Authority-level of Camden, across all wards, we see that crime rates have an upward trend. There is not much of a strong seasonal pattern also.\n",
    "\n",
    "[[*StackOverflow - gboffi, 2018*](https://stackoverflow.com/a/53681489/13416265)]"
   ]
  },
  {
   "cell_type": "code",
   "execution_count": null,
   "metadata": {
    "tags": [
     "hide-input"
    ]
   },
   "outputs": [],
   "source": [
    "wards = df_ward_ts[\"Ward Name\"].unique()\n",
    "colours = plt.rcParams['axes.prop_cycle']()\n",
    "\n",
    "fig, axes = plt.subplots(nrows=3, ncols=6, figsize=(30,15))\n",
    "plt.suptitle(t=\"Crime Rates for each Camden ward\", fontsize=TITLE_SIZE)\n",
    "for ax, ward in zip(axes.flatten(), wards):\n",
    "    df = df_ward_ts[df_ward_ts[\"Ward Name\"] == ward]\n",
    "    ax.plot(\"Outcome Date\", \"Crime Rate\", data=df, **next(colours))\n",
    "    ax.set_title(label=f\"{ward}\")"
   ]
  }
 ],
 "metadata": {
  "kernelspec": {
   "display_name": "",
   "language": "python",
   "name": ""
  },
  "language_info": {
   "codemirror_mode": {
    "name": "ipython",
    "version": 3
   },
   "file_extension": ".py",
   "mimetype": "text/x-python",
   "name": "python",
   "nbconvert_exporter": "python",
   "pygments_lexer": "ipython3",
   "version": "3.8.0"
  }
 },
 "nbformat": 4,
 "nbformat_minor": 4
}
