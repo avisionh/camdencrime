{
 "cells": [
  {
   "cell_type": "code",
   "execution_count": null,
   "metadata": {
    "tags": [
     "hide-input"
    ]
   },
   "outputs": [],
   "source": [
    "import os\n",
    "import pandas as pd\n",
    "import numpy as np\n",
    "import matplotlib.pyplot as plt\n",
    "from matplotlib.ticker import PercentFormatter\n",
    "import seaborn as sns\n",
    "\n",
    "%matplotlib inline\n",
    "\n",
    "# constants\n",
    "FOLDER_INTERIM = os.environ.get('DIR_DATA_INTERIM')\n",
    "DATA_CRIME_CATEGORY = 'df_category.csv'\n",
    "DATA_POP = 'df_pop.csv'\n",
    "FIG_SIZE = (30, 15)\n",
    "TITLE_SIZE = 40\n",
    "LABEL_SIZE = (20,20)\n",
    "TICK_SIZE = 15\n",
    "PALETTE = 'Set2'"
   ]
  },
  {
   "cell_type": "code",
   "execution_count": null,
   "metadata": {
    "tags": [
     "hide-input"
    ]
   },
   "outputs": [],
   "source": [
    "df_category = pd.read_csv(filepath_or_buffer=FOLDER_INTERIM + \"/\" + DATA_CRIME_CATEGORY,\n",
    "                          parse_dates=[\"Outcome Date\"])\n",
    "df_pop = pd.read_csv(filepath_or_buffer=FOLDER_INTERIM + \"/\" + DATA_POP)"
   ]
  },
  {
   "cell_type": "markdown",
   "metadata": {},
   "source": [
    "Re-shape data so it is in the right format for plotting."
   ]
  },
  {
   "cell_type": "code",
   "execution_count": null,
   "metadata": {
    "tags": [
     "hide-input"
    ]
   },
   "outputs": [],
   "source": [
    "# aggregate to category level\n",
    "df_crime = df_category.groupby(by=[\"Outcome Year\", \"Category\"]).agg(func={\"Crime Incidences\": 'sum'}).reset_index()\n",
    "df_camden = df_pop.groupby(by=[\"Outcome Year\"]).agg(func={\"Population\": 'sum'})\n",
    "df_crime = df_crime.merge(right=df_camden, on=[\"Outcome Year\"])\n",
    "df_crime[\"Crime Rate\"] = df_crime[\"Crime Incidences\"] / df_crime[\"Population\"]\n",
    "\n",
    "# aggregate to Camden level\n",
    "df_crime_camden = df_crime.groupby(by=[\"Category\"]).agg(func={\"Crime Incidences\": 'sum'}).reset_index()\n",
    "df_crime_camden[\"Crime Rate\"] = df_crime_camden[\"Crime Incidences\"] / df_camden[\"Population\"].sum()"
   ]
  },
  {
   "cell_type": "markdown",
   "metadata": {},
   "source": [
    "# Explore Crime by Categories\n",
    "In this section, we explore further general crime rates by at Camden through the categories of crime:\n",
    "1. Bar plot - to understand the crime rates.\n",
    "\n",
    "## Crime by category\n",
    "We see that the following categories of crime have the highest rates of offence.\n",
    "1. Violence and sexual offences\n",
    "1. Other theft\n",
    "1. Theft from the person"
   ]
  },
  {
   "cell_type": "code",
   "execution_count": null,
   "metadata": {
    "tags": [
     "hide-input"
    ]
   },
   "outputs": [],
   "source": [
    "ax = sns.catplot(x=\"Crime Rate\", y=\"Category\", data=df_crime_camden, kind='bar', ci=None, palette=PALETTE, height=10, orient='h')\n",
    "\n",
    "ax.fig.suptitle(t=\"Bar Plot: Crime Rates for each category\", fontsize=TITLE_SIZE)\n",
    "ax.fig.subplots_adjust(top=0.9)\n",
    "# use percentages on x-axis\n",
    "for x in ax.axes.flat:\n",
    "    x.xaxis.set_major_formatter(PercentFormatter(xmax=1, decimals=2))"
   ]
  },
  {
   "cell_type": "markdown",
   "metadata": {},
   "source": [
    "## Crime by category by year\n",
    "Similar to what was seen for all years, across each year, the highest rates of crime committed were:\n",
    "1. Violence and sexual offences\n",
    "1. Other theft\n",
    "1. Theft from the person"
   ]
  },
  {
   "cell_type": "code",
   "execution_count": null,
   "metadata": {
    "tags": [
     "hide-input"
    ]
   },
   "outputs": [],
   "source": [
    "ax = sns.catplot(x=\"Crime Rate\", y=\"Category\", data=df_crime, kind='bar', col=\"Outcome Year\", ci=None, palette='Set2', orient='h')\n",
    "\n",
    "ax.fig.suptitle(t=\"Crime Rates for each category per year\", fontsize=TITLE_SIZE)\n",
    "ax.fig.subplots_adjust(top=0.8)\n",
    "# use percentages on x-axis\n",
    "for x in ax.axes.flat:\n",
    "    x.xaxis.set_major_formatter(PercentFormatter(xmax=1, decimals=2))"
   ]
  },
  {
   "cell_type": "markdown",
   "metadata": {},
   "source": [
    "Trying to do crime by year, by ward and by category gets busy so explore alternative methods - a graph database!"
   ]
  },
  {
   "cell_type": "code",
   "execution_count": null,
   "metadata": {},
   "outputs": [],
   "source": []
  }
 ],
 "metadata": {
  "kernelspec": {
   "display_name": "",
   "language": "python",
   "name": ""
  },
  "language_info": {
   "codemirror_mode": {
    "name": "ipython",
    "version": 3
   },
   "file_extension": ".py",
   "mimetype": "text/x-python",
   "name": "python",
   "nbconvert_exporter": "python",
   "pygments_lexer": "ipython3",
   "version": "3.8.0"
  }
 },
 "nbformat": 4,
 "nbformat_minor": 4
}
