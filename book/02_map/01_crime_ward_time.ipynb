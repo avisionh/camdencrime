{
 "cells": [
  {
   "cell_type": "code",
   "execution_count": null,
   "metadata": {
    "tags": [
     "hide-input"
    ]
   },
   "outputs": [],
   "source": [
    "from src.utils.helper_geo import get_lat_long_centre\n",
    "\n",
    "import os\n",
    "import pandas as pd\n",
    "import geopandas as gpd\n",
    "import branca.colormap as cm\n",
    "import folium\n",
    "from folium.plugins import TimeSliderChoropleth\n",
    "\n",
    "FOLDER_PROCESSED = os.environ.get('DIR_DATA_PROCESSED')\n",
    "DATA_CRIME_MAP = 'df_crime_map.pkl'"
   ]
  },
  {
   "cell_type": "code",
   "execution_count": null,
   "metadata": {
    "tags": [
     "hide-input"
    ]
   },
   "outputs": [],
   "source": [
    "df_camden = pd.read_pickle(filepath_or_buffer=FOLDER_PROCESSED + \"/\" + DATA_CRIME_MAP)\n",
    "# remove NaT from Outcome Date column\n",
    "df_camden = df_camden.dropna(subset=['Outcome Sec'])"
   ]
  },
  {
   "cell_type": "markdown",
   "metadata": {},
   "source": [
    "# Explore Crime on a Map\n",
    "In this section, we further explore crime rates by considering how they compare across wards and across time.\n",
    "\n",
    "The advantage of mapping this interactively is that we can intuitively and easily enable the ward, time and crime category dimensions to be on one visualisation. If we used other visualisation methods like barplots or distributions charts, then these plots will have too much information on and be more difficult to understand.\n",
    "\n",
    "[[*Jumping Rivers - A. Curran, Mar 2020*](https://www.jumpingrivers.com/blog/interactive-maps-python-covid-19-spread/)]"
   ]
  },
  {
   "cell_type": "code",
   "execution_count": null,
   "metadata": {
    "tags": [
     "hide-input"
    ]
   },
   "outputs": [],
   "source": [
    "# define colour map w.r.t Crime Rate\n",
    "max_colour = max(df_camden['Crime Rate'])\n",
    "min_colour = min(df_camden['Crime Rate'])\n",
    "cmap = cm.linear.YlOrRd_09.scale(min_colour, max_colour)\n",
    "df_camden['Colour'] = df_camden['Crime Rate'].map(cmap)"
   ]
  },
  {
   "cell_type": "code",
   "execution_count": null,
   "metadata": {
    "tags": [
     "hide-input"
    ]
   },
   "outputs": [],
   "source": [
    "# construct style dictionary for choropleth mapping\n",
    "ward_list = df_camden['Ward Name'].unique().tolist()\n",
    "ward_idx = range(len(ward_list))\n",
    "\n",
    "style_dict = {}\n",
    "for i in ward_idx:\n",
    "    ward = ward_list[i]\n",
    "    result = df_camden[df_camden['Ward Name'] == ward]\n",
    "    inner_dict = {}\n",
    "    for _, r in result.iterrows():\n",
    "        inner_dict[r['Outcome Sec']] = {'color': r['Colour'], 'opacity': 0.7}\n",
    "    style_dict[str(i)] = inner_dict"
   ]
  },
  {
   "cell_type": "code",
   "execution_count": null,
   "metadata": {
    "tags": [
     "hide-input",
     "hide-warning"
    ]
   },
   "outputs": [],
   "source": [
    "# make df with features of each ward\n",
    "gdf_ward = gpd.GeoDataFrame(data=df_camden[['geometry']])\n",
    "gdf_ward = gdf_ward.drop_duplicates().reset_index()\n",
    "\n",
    "# set projection for accurate centroid mapping\n",
    "centroids = gdf_ward.centroid\n",
    "centroid = list(zip(list(centroids.y), list(centroids.x)))\n",
    "centroid = get_lat_long_centre(geolocations=centroid)"
   ]
  },
  {
   "cell_type": "markdown",
   "metadata": {},
   "source": [
    "> **Development Note**\n",
    ">\n",
    "> - *Would like to add crime rates in the pop-up but this is difficult because we need to store the user-input made via the `TimeSliderChoropleth()` and pass it as a filter to the dataset when we loop over `list_iterate`.*\n",
    "> - *Would like to add Vega time-series plots for each ward if it does not make visualisation too busy. Will need to consider how we can split by time in `style_dict`. [[*Folium Quickstart*](https://python-visualization.github.io/folium/quickstart.html)] and [[*StackOverflow*](https://stackoverflow.com/a/42530321/13416265)]*"
   ]
  },
  {
   "cell_type": "code",
   "execution_count": null,
   "metadata": {
    "tags": [
     "hide-input"
    ]
   },
   "outputs": [],
   "source": [
    "# make map and add colourbar\n",
    "# - can then add some prediction on crime levels in future\n",
    "# - add labels of wards\n",
    "# - add popups of crime level numbers\n",
    "slider_map = folium.Map(location=centroid,\n",
    "                        zoom_start=12,\n",
    "                        max_bounds=True,\n",
    "                        tiles='cartodbpositron')\n",
    "\n",
    "# include descriptive stats\n",
    "\n",
    "# add popups\n",
    "feature_group = folium.FeatureGroup(\"Locations\")\n",
    "list_iterate = zip(list(centroids.y), list(centroids.x), ward_list)\n",
    "for lon, lat, name in list_iterate:\n",
    "    # create html table of summary stats for all time\n",
    "    stats_desc = df_camden[df_camden[\"Ward Name\"]==name][\"Crime Rate\"] * 100\n",
    "    stats_desc = stats_desc.describe()\n",
    "    stats_desc = pd.DataFrame(data=stats_desc)\n",
    "    stats_desc = stats_desc.round(decimals=2)\n",
    "    stats_desc = '<strong>Summay stats for all time</strong>\\n' + stats_desc.to_html()\n",
    "    # add html header \n",
    "    feature_group.add_child(folium.Marker(location=[lon, lat], \n",
    "                                          tooltip=name, \n",
    "                                          popup=stats_desc))\n",
    "\n",
    "_ = slider_map.add_child(feature_group)\n",
    "\n",
    "# add time slider for choropleth\n",
    "_ = TimeSliderChoropleth(data=gdf_ward.to_json(),\n",
    "                         styledict=style_dict).add_to(slider_map)\n",
    "_ = cmap.add_to(slider_map)\n",
    "\n",
    "cmap.caption = \"Crime Rate per Ward\"\n",
    "\n",
    "slider_map"
   ]
  },
  {
   "cell_type": "code",
   "execution_count": null,
   "metadata": {},
   "outputs": [],
   "source": []
  }
 ],
 "metadata": {
  "kernelspec": {
   "display_name": "",
   "language": "python",
   "name": ""
  },
  "language_info": {
   "codemirror_mode": {
    "name": "ipython",
    "version": 3
   },
   "file_extension": ".py",
   "mimetype": "text/x-python",
   "name": "python",
   "nbconvert_exporter": "python",
   "pygments_lexer": "ipython3",
   "version": "3.8.0"
  }
 },
 "nbformat": 4,
 "nbformat_minor": 4
}
